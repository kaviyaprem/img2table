{
 "cells": [
  {
   "cell_type": "code",
   "execution_count": 1,
   "metadata": {},
   "outputs": [
    {
     "name": "stdout",
     "output_type": "stream",
     "text": [
      "Defaulting to user installation because normal site-packages is not writeable\n",
      "Requirement already satisfied: img2table in /home/aiswarya/.local/lib/python3.9/site-packages (1.2.11)\n",
      "Requirement already satisfied: polars>=0.20.5 in /home/aiswarya/.local/lib/python3.9/site-packages (from polars[pandas]>=0.20.5->img2table) (0.20.25)\n",
      "Requirement already satisfied: pyarrow>=7 in /home/aiswarya/.local/lib/python3.9/site-packages (from img2table) (16.0.0)\n",
      "Requirement already satisfied: numpy in /home/aiswarya/.local/lib/python3.9/site-packages (from img2table) (1.26.4)\n",
      "Requirement already satisfied: pymupdf>=1.19.1 in /home/aiswarya/.local/lib/python3.9/site-packages (from img2table) (1.24.3)\n",
      "Requirement already satisfied: opencv-contrib-python in /home/aiswarya/.local/lib/python3.9/site-packages (from img2table) (4.9.0.80)\n",
      "Requirement already satisfied: numba in /home/aiswarya/.local/lib/python3.9/site-packages (from img2table) (0.59.1)\n",
      "Requirement already satisfied: beautifulsoup4 in /home/aiswarya/.local/lib/python3.9/site-packages (from img2table) (4.12.3)\n",
      "Requirement already satisfied: xlsxwriter>=3.0.6 in /home/aiswarya/.local/lib/python3.9/site-packages (from img2table) (3.2.0)\n",
      "Requirement already satisfied: pandas in /home/aiswarya/.local/lib/python3.9/site-packages (from polars[pandas]>=0.20.5->img2table) (2.2.2)\n",
      "Requirement already satisfied: PyMuPDFb==1.24.3 in /home/aiswarya/.local/lib/python3.9/site-packages (from pymupdf>=1.19.1->img2table) (1.24.3)\n",
      "Requirement already satisfied: soupsieve>1.2 in /home/aiswarya/.local/lib/python3.9/site-packages (from beautifulsoup4->img2table) (2.5)\n",
      "Requirement already satisfied: llvmlite<0.43,>=0.42.0dev0 in /home/aiswarya/.local/lib/python3.9/site-packages (from numba->img2table) (0.42.0)\n",
      "Requirement already satisfied: python-dateutil>=2.8.2 in /home/aiswarya/.local/lib/python3.9/site-packages (from pandas->polars[pandas]>=0.20.5->img2table) (2.9.0.post0)\n",
      "Requirement already satisfied: pytz>=2020.1 in /home/aiswarya/.local/lib/python3.9/site-packages (from pandas->polars[pandas]>=0.20.5->img2table) (2024.1)\n",
      "Requirement already satisfied: tzdata>=2022.7 in /home/aiswarya/.local/lib/python3.9/site-packages (from pandas->polars[pandas]>=0.20.5->img2table) (2024.1)\n",
      "Requirement already satisfied: six>=1.5 in /usr/lib/python3/dist-packages (from python-dateutil>=2.8.2->pandas->polars[pandas]>=0.20.5->img2table) (1.14.0)\n",
      "Note: you may need to restart the kernel to use updated packages.\n"
     ]
    }
   ],
   "source": [
    "pip install img2table"
   ]
  },
  {
   "cell_type": "code",
   "execution_count": 21,
   "metadata": {},
   "outputs": [
    {
     "name": "stdout",
     "output_type": "stream",
     "text": [
      "Defaulting to user installation because normal site-packages is not writeable\n",
      "Collecting pdf2image\n",
      "  Downloading pdf2image-1.17.0-py3-none-any.whl.metadata (6.2 kB)\n",
      "Requirement already satisfied: pillow in /home/aiswarya/.local/lib/python3.9/site-packages (from pdf2image) (10.3.0)\n",
      "Downloading pdf2image-1.17.0-py3-none-any.whl (11 kB)\n",
      "Installing collected packages: pdf2image\n",
      "Successfully installed pdf2image-1.17.0\n",
      "Note: you may need to restart the kernel to use updated packages.\n"
     ]
    }
   ],
   "source": [
    "pip install pdf2image"
   ]
  },
  {
   "cell_type": "code",
   "execution_count": 22,
   "metadata": {},
   "outputs": [],
   "source": [
    "from pdf2image import convert_from_path\n",
    "\n",
    "def pdf_to_images(pdf_path, output_folder):\n",
    "    # Convert PDF to a list of PIL Image objects\n",
    "    images = convert_from_path(pdf_path)\n",
    "\n",
    "    # Save each image to the output folder\n",
    "    for i, image in enumerate(images):\n",
    "        image.save(f'{output_folder}/page_{i+1}.png', 'PNG')\n",
    "\n",
    "# Path to the PDF file\n",
    "pdf_path = r'/home/aiswarya/Desktop/TASK_1/31346_CI.pdf'\n",
    "\n",
    "# Output folder where images will be saved\n",
    "output_folder = r'/home/aiswarya/Desktop/TASK_1'\n",
    "\n",
    "# Call the function to convert PDF to images\n",
    "pdf_to_images(pdf_path, output_folder)\n"
   ]
  },
  {
   "cell_type": "code",
   "execution_count": 23,
   "metadata": {},
   "outputs": [
    {
     "name": "stdout",
     "output_type": "stream",
     "text": [
      "tesseract 4.1.1\n",
      " leptonica-1.79.0\n",
      "  libgif 5.1.4 : libjpeg 8d (libjpeg-turbo 2.0.3) : libpng 1.6.37 : libtiff 4.1.0 : zlib 1.2.11 : libwebp 0.6.1 : libopenjp2 2.3.1\n",
      " Found AVX2\n",
      " Found AVX\n",
      " Found FMA\n",
      " Found SSE\n",
      " Found libarchive 3.4.0 zlib/1.2.11 liblzma/5.2.4 bz2lib/1.0.8 liblz4/1.9.2 libzstd/1.4.4\n"
     ]
    }
   ],
   "source": [
    "from img2table.ocr import TesseractOCR\n",
    "from img2table.document import Image\n",
    "\n",
    "# Instantiation of OCR\n",
    "ocr = TesseractOCR(n_threads=1, lang=\"eng\")\n",
    "\n",
    "# Instantiation of document, either an image or a PDF\n",
    "doc = Image(r'/home/aiswarya/Desktop/TASK_1/page_1.png')\n",
    "\n",
    "# Table extraction\n",
    "extracted_tables = doc.extract_tables(ocr=ocr,\n",
    "                                      implicit_rows=False,\n",
    "                                      borderless_tables=False,\n",
    "                                      min_confidence=50)"
   ]
  },
  {
   "cell_type": "code",
   "execution_count": 24,
   "metadata": {},
   "outputs": [
    {
     "name": "stdout",
     "output_type": "stream",
     "text": [
      "tesseract 4.1.1\n",
      " leptonica-1.79.0\n",
      "  libgif 5.1.4 : libjpeg 8d (libjpeg-turbo 2.0.3) : libpng 1.6.37 : libtiff 4.1.0 : zlib 1.2.11 : libwebp 0.6.1 : libopenjp2 2.3.1\n",
      " Found AVX2\n",
      " Found AVX\n",
      " Found FMA\n",
      " Found SSE\n",
      " Found libarchive 3.4.0 zlib/1.2.11 liblzma/5.2.4 bz2lib/1.0.8 liblz4/1.9.2 libzstd/1.4.4\n"
     ]
    }
   ],
   "source": [
    "from img2table.ocr import TesseractOCR\n",
    "from img2table.document import Image\n",
    "\n",
    "# Instantiation of OCR\n",
    "ocr = TesseractOCR(n_threads=1, lang=\"eng\")\n",
    "\n",
    "# Instantiation of document, either an image or a PDF\n",
    "doc = Image(r'/home/aiswarya/Desktop/TASK_1/page_1.png')\n",
    "\n",
    "# Extraction of tables and creation of a xlsx file containing tables\n",
    "doc.to_xlsx(dest=r'/home/aiswarya/Desktop/TASK_1/Table.ods',\n",
    "            ocr=ocr,\n",
    "            implicit_rows=False,\n",
    "            borderless_tables=False,\n",
    "            min_confidence=50)"
   ]
  },
  {
   "cell_type": "code",
   "execution_count": 25,
   "metadata": {},
   "outputs": [
    {
     "name": "stdout",
     "output_type": "stream",
     "text": [
      "tesseract 4.1.1\n",
      " leptonica-1.79.0\n",
      "  libgif 5.1.4 : libjpeg 8d (libjpeg-turbo 2.0.3) : libpng 1.6.37 : libtiff 4.1.0 : zlib 1.2.11 : libwebp 0.6.1 : libopenjp2 2.3.1\n",
      " Found AVX2\n",
      " Found AVX\n",
      " Found FMA\n",
      " Found SSE\n",
      " Found libarchive 3.4.0 zlib/1.2.11 liblzma/5.2.4 bz2lib/1.0.8 liblz4/1.9.2 libzstd/1.4.4\n",
      "Table 1 Bounding Box Coordinates: BBox(x1=61, y1=1028, x2=1342, y2=1133)\n",
      "Table 2 Bounding Box Coordinates: BBox(x1=59, y1=1164, x2=1605, y2=1218)\n"
     ]
    }
   ],
   "source": [
    "from img2table.ocr import TesseractOCR\n",
    "from img2table.document import Image\n",
    "\n",
    "# Instantiation of OCR\n",
    "ocr = TesseractOCR(n_threads=1, lang=\"eng\")\n",
    "\n",
    "# Instantiation of document, either an image or a PDF\n",
    "doc = Image(r'/home/aiswarya/Desktop/TASK_1/page_1.png')\n",
    "\n",
    "# Extraction of tables\n",
    "extracted_tables = doc.extract_tables(ocr=ocr,\n",
    "                                      implicit_rows=False,\n",
    "                                      borderless_tables=False,\n",
    "                                      min_confidence=50)\n",
    "\n",
    "# Iterate over the extracted tables\n",
    "for i, table in enumerate(extracted_tables):\n",
    "    # Print the bounding box coordinates of each table\n",
    "    print(f\"Table {i+1} Bounding Box Coordinates: {table.bbox}\")\n"
   ]
  },
  {
   "cell_type": "code",
   "execution_count": 1,
   "metadata": {},
   "outputs": [
    {
     "name": "stderr",
     "output_type": "stream",
     "text": [
      "/home/aiswarya/.local/lib/python3.9/site-packages/tqdm/auto.py:21: TqdmWarning: IProgress not found. Please update jupyter and ipywidgets. See https://ipywidgets.readthedocs.io/en/stable/user_install.html\n",
      "  from .autonotebook import tqdm as notebook_tqdm\n",
      "/home/aiswarya/.local/lib/python3.9/site-packages/transformers/utils/generic.py:441: UserWarning: torch.utils._pytree._register_pytree_node is deprecated. Please use torch.utils._pytree.register_pytree_node instead.\n",
      "  _torch_pytree._register_pytree_node(\n",
      "/home/aiswarya/.local/lib/python3.9/site-packages/torch/cuda/__init__.py:619: UserWarning: Can't initialize NVML\n",
      "  warnings.warn(\"Can't initialize NVML\")\n",
      "/home/aiswarya/.local/lib/python3.9/site-packages/torch/cuda/__init__.py:749: UserWarning: CUDA initialization: The NVIDIA driver on your system is too old (found version 10010). Please update your GPU driver by downloading and installing a new version from the URL: http://www.nvidia.com/Download/index.aspx Alternatively, go to: https://pytorch.org to install a PyTorch version that has been compiled with your version of the CUDA driver. (Triggered internally at ../c10/cuda/CUDAFunctions.cpp:108.)\n",
      "  return torch._C._cuda_getDeviceCount() if nvml_count < 0 else nvml_count\n"
     ]
    }
   ],
   "source": [
    "# Import the required libraries \n",
    "import torch \n",
    "import torchvision \n",
    "from torchvision.io import read_image \n",
    "from torchvision.utils import draw_bounding_boxes \n",
    "import cv2\n",
    "\n",
    "# read input image from your computer \n",
    "image = cv2.imread(r'/home/aiswarya/Desktop/TASK_1/page_1.png') \n",
    "img = cv2.cvtColor(image, cv2.COLOR_BGR2GRAY) \n",
    "\n",
    "# create boxes \n",
    "box_1 = [61, 1028, 1342, 1133] \n",
    "box_2 = [59, 1164, 1605, 1218]\n",
    "\n",
    "box = [box_1, box_2] \n",
    "box = torch.tensor(box, dtype=torch.int) \n",
    "\n",
    "# Convert the grayscale image to a tensor\n",
    "img_tensor = torch.tensor(img, dtype=torch.uint8).unsqueeze(0)\n",
    "\n",
    "# draw bounding box and fill color \n",
    "img_with_boxes = draw_bounding_boxes(img_tensor, box, width=5, colors=[\"green\", \"blue\"], fill=True) \n",
    "\n",
    "# Convert the image tensor back to a numpy array\n",
    "img_with_boxes = img_with_boxes.squeeze(0).permute(1, 2, 0).numpy().astype('uint8')\n",
    "\n",
    "# Transform the image to PIL image \n",
    "img_pil = torchvision.transforms.ToPILImage()(img_with_boxes) \n",
    "\n",
    "# Display output \n",
    "img_pil.show()\n"
   ]
  },
  {
   "cell_type": "code",
   "execution_count": null,
   "metadata": {},
   "outputs": [],
   "source": []
  }
 ],
 "metadata": {
  "kernelspec": {
   "display_name": "Python 3",
   "language": "python",
   "name": "python3"
  },
  "language_info": {
   "codemirror_mode": {
    "name": "ipython",
    "version": 3
   },
   "file_extension": ".py",
   "mimetype": "text/x-python",
   "name": "python",
   "nbconvert_exporter": "python",
   "pygments_lexer": "ipython3",
   "version": "3.9.19"
  }
 },
 "nbformat": 4,
 "nbformat_minor": 2
}
